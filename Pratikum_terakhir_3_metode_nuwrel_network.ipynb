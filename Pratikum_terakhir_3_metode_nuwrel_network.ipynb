{
  "nbformat": 4,
  "nbformat_minor": 0,
  "metadata": {
    "colab": {
      "provenance": [],
      "authorship_tag": "ABX9TyMNz2m4LAUQ4NNCd3pjO6U4",
      "include_colab_link": true
    },
    "kernelspec": {
      "name": "python3",
      "display_name": "Python 3"
    },
    "language_info": {
      "name": "python"
    }
  },
  "cells": [
    {
      "cell_type": "markdown",
      "metadata": {
        "id": "view-in-github",
        "colab_type": "text"
      },
      "source": [
        "<a href=\"https://colab.research.google.com/github/zaghluldinilhaq/Exception/blob/main/Pratikum_terakhir_3_metode_nuwrel_network.ipynb\" target=\"_parent\"><img src=\"https://colab.research.google.com/assets/colab-badge.svg\" alt=\"Open In Colab\"/></a>"
      ]
    },
    {
      "cell_type": "code",
      "execution_count": null,
      "metadata": {
        "colab": {
          "base_uri": "https://localhost:8080/"
        },
        "id": "jj_Jtv5eQh4k",
        "outputId": "76427473-b9d2-4fda-c29c-9da00c616c65"
      },
      "outputs": [
        {
          "output_type": "stream",
          "name": "stdout",
          "text": [
            "   Pregnancies  Glucose  BloodPressure  SkinThickness  Insulin   BMI  \\\n",
            "0            6      148             72             35        0  33.6   \n",
            "1            1       85             66             29        0  26.6   \n",
            "2            8      183             64              0        0  23.3   \n",
            "3            1       89             66             23       94  28.1   \n",
            "4            0      137             40             35      168  43.1   \n",
            "\n",
            "   DiabetesPedigreeFunction  Age  Outcome  \n",
            "0                     0.627   50        1  \n",
            "1                     0.351   31        0  \n",
            "2                     0.672   32        1  \n",
            "3                     0.167   21        0  \n",
            "4                     2.288   33        1  \n"
          ]
        }
      ],
      "source": [
        "import pandas as pd\n",
        "\n",
        "# masukan dataset\n",
        "data = pd.read_csv('diabetes.csv')\n",
        "\n",
        "# lihat dataset\n",
        "print(data.head())"
      ]
    },
    {
      "cell_type": "markdown",
      "source": [
        "Supervised Learning"
      ],
      "metadata": {
        "id": "lx2WU6s5ZBgv"
      }
    },
    {
      "cell_type": "code",
      "source": [
        "from sklearn.model_selection import train_test_split\n",
        "from sklearn.preprocessing import StandardScaler\n",
        "\n",
        "# Pisahkan fitur dan label\n",
        "X = data.drop('Outcome', axis=1)\n",
        "y = data['Outcome']\n",
        "\n",
        "# Bagi data menjadi set pelatihan dan pengujian\n",
        "X_train, X_test, y_train, y_test = train_test_split(X, y, test_size=0.2, random_state=42)\n",
        "\n",
        "# Standardisasi fitur\n",
        "scaler = StandardScaler()\n",
        "X_train = scaler.fit_transform(X_train)\n",
        "X_test = scaler.transform(X_test)\n"
      ],
      "metadata": {
        "id": "vX1IW4ZQTS6S"
      },
      "execution_count": null,
      "outputs": []
    },
    {
      "cell_type": "markdown",
      "source": [
        "membuat model jaringan saraf dengan tiga lapisan: lapisan input dengan 32 neuron, lapisan tersembunyi dengan 16 neuron, dan lapisan output dengan 1 neuron (aktivasi sigmoid untuk klasifikasi biner)."
      ],
      "metadata": {
        "id": "_l7ByDQ5UhA_"
      }
    },
    {
      "cell_type": "code",
      "source": [
        " import tensorflow as tf\n",
        "from tensorflow.keras.models import Sequential\n",
        "from tensorflow.keras.layers import Dense\n",
        "\n",
        "# Membangun model\n",
        "model = Sequential([\n",
        "    Dense(32, activation='relu', input_shape=(X_train.shape[1],)),\n",
        "    Dense(16, activation='relu'),\n",
        "    Dense(1, activation='sigmoid')\n",
        "])\n",
        "\n",
        "# Kompilasi model\n",
        "model.compile(optimizer='adam', loss='binary_crossentropy', metrics=['accuracy'])\n",
        "\n",
        "# Ringkasan model\n",
        "model.summary()\n"
      ],
      "metadata": {
        "colab": {
          "base_uri": "https://localhost:8080/"
        },
        "id": "Qz0fJpwKTb6c",
        "outputId": "57641759-dc99-4213-83c3-a005ae588526"
      },
      "execution_count": null,
      "outputs": [
        {
          "output_type": "stream",
          "name": "stdout",
          "text": [
            "Model: \"sequential\"\n",
            "_________________________________________________________________\n",
            " Layer (type)                Output Shape              Param #   \n",
            "=================================================================\n",
            " dense (Dense)               (None, 32)                288       \n",
            "                                                                 \n",
            " dense_1 (Dense)             (None, 16)                528       \n",
            "                                                                 \n",
            " dense_2 (Dense)             (None, 1)                 17        \n",
            "                                                                 \n",
            "=================================================================\n",
            "Total params: 833 (3.25 KB)\n",
            "Trainable params: 833 (3.25 KB)\n",
            "Non-trainable params: 0 (0.00 Byte)\n",
            "_________________________________________________________________\n"
          ]
        }
      ]
    },
    {
      "cell_type": "markdown",
      "source": [
        "Model dilatih menggunakan data pelatihan selama 50 epoch, dengan batch size 32."
      ],
      "metadata": {
        "id": "9mr8uTXgVUOd"
      }
    },
    {
      "cell_type": "code",
      "source": [
        "# Melatih model\n",
        "history = model.fit(X_train, y_train, epochs=50, validation_data=(X_test, y_test), batch_size=32)\n"
      ],
      "metadata": {
        "colab": {
          "base_uri": "https://localhost:8080/"
        },
        "id": "e20ZmudfTjOe",
        "outputId": "4e62634f-862a-44af-d88f-6e9ee5ee1b77"
      },
      "execution_count": null,
      "outputs": [
        {
          "output_type": "stream",
          "name": "stdout",
          "text": [
            "Epoch 1/50\n",
            "20/20 [==============================] - 1s 12ms/step - loss: 0.6539 - accuracy: 0.6433 - val_loss: 0.6579 - val_accuracy: 0.6039\n",
            "Epoch 2/50\n",
            "20/20 [==============================] - 0s 4ms/step - loss: 0.6043 - accuracy: 0.6580 - val_loss: 0.6204 - val_accuracy: 0.6299\n",
            "Epoch 3/50\n",
            "20/20 [==============================] - 0s 4ms/step - loss: 0.5693 - accuracy: 0.6678 - val_loss: 0.5922 - val_accuracy: 0.6688\n",
            "Epoch 4/50\n",
            "20/20 [==============================] - 0s 4ms/step - loss: 0.5433 - accuracy: 0.7101 - val_loss: 0.5681 - val_accuracy: 0.6883\n",
            "Epoch 5/50\n",
            "20/20 [==============================] - 0s 4ms/step - loss: 0.5212 - accuracy: 0.7182 - val_loss: 0.5506 - val_accuracy: 0.7208\n",
            "Epoch 6/50\n",
            "20/20 [==============================] - 0s 4ms/step - loss: 0.5029 - accuracy: 0.7345 - val_loss: 0.5354 - val_accuracy: 0.7532\n",
            "Epoch 7/50\n",
            "20/20 [==============================] - 0s 3ms/step - loss: 0.4891 - accuracy: 0.7622 - val_loss: 0.5259 - val_accuracy: 0.7597\n",
            "Epoch 8/50\n",
            "20/20 [==============================] - 0s 4ms/step - loss: 0.4783 - accuracy: 0.7704 - val_loss: 0.5185 - val_accuracy: 0.7468\n",
            "Epoch 9/50\n",
            "20/20 [==============================] - 0s 4ms/step - loss: 0.4685 - accuracy: 0.7720 - val_loss: 0.5119 - val_accuracy: 0.7662\n",
            "Epoch 10/50\n",
            "20/20 [==============================] - 0s 4ms/step - loss: 0.4602 - accuracy: 0.7752 - val_loss: 0.5079 - val_accuracy: 0.7597\n",
            "Epoch 11/50\n",
            "20/20 [==============================] - 0s 3ms/step - loss: 0.4548 - accuracy: 0.7752 - val_loss: 0.5043 - val_accuracy: 0.7403\n",
            "Epoch 12/50\n",
            "20/20 [==============================] - 0s 4ms/step - loss: 0.4497 - accuracy: 0.7834 - val_loss: 0.5013 - val_accuracy: 0.7597\n",
            "Epoch 13/50\n",
            "20/20 [==============================] - 0s 4ms/step - loss: 0.4444 - accuracy: 0.7850 - val_loss: 0.5025 - val_accuracy: 0.7532\n",
            "Epoch 14/50\n",
            "20/20 [==============================] - 0s 4ms/step - loss: 0.4414 - accuracy: 0.7883 - val_loss: 0.5017 - val_accuracy: 0.7597\n",
            "Epoch 15/50\n",
            "20/20 [==============================] - 0s 4ms/step - loss: 0.4374 - accuracy: 0.7866 - val_loss: 0.5032 - val_accuracy: 0.7403\n",
            "Epoch 16/50\n",
            "20/20 [==============================] - 0s 3ms/step - loss: 0.4346 - accuracy: 0.7883 - val_loss: 0.5041 - val_accuracy: 0.7532\n",
            "Epoch 17/50\n",
            "20/20 [==============================] - 0s 3ms/step - loss: 0.4308 - accuracy: 0.7834 - val_loss: 0.5049 - val_accuracy: 0.7468\n",
            "Epoch 18/50\n",
            "20/20 [==============================] - 0s 3ms/step - loss: 0.4282 - accuracy: 0.7899 - val_loss: 0.5065 - val_accuracy: 0.7403\n",
            "Epoch 19/50\n",
            "20/20 [==============================] - 0s 3ms/step - loss: 0.4283 - accuracy: 0.7883 - val_loss: 0.5116 - val_accuracy: 0.7273\n",
            "Epoch 20/50\n",
            "20/20 [==============================] - 0s 4ms/step - loss: 0.4249 - accuracy: 0.7980 - val_loss: 0.5093 - val_accuracy: 0.7532\n",
            "Epoch 21/50\n",
            "20/20 [==============================] - 0s 4ms/step - loss: 0.4241 - accuracy: 0.7866 - val_loss: 0.5070 - val_accuracy: 0.7532\n",
            "Epoch 22/50\n",
            "20/20 [==============================] - 0s 3ms/step - loss: 0.4205 - accuracy: 0.7915 - val_loss: 0.5113 - val_accuracy: 0.7273\n",
            "Epoch 23/50\n",
            "20/20 [==============================] - 0s 3ms/step - loss: 0.4190 - accuracy: 0.7980 - val_loss: 0.5112 - val_accuracy: 0.7532\n",
            "Epoch 24/50\n",
            "20/20 [==============================] - 0s 3ms/step - loss: 0.4175 - accuracy: 0.8046 - val_loss: 0.5140 - val_accuracy: 0.7338\n",
            "Epoch 25/50\n",
            "20/20 [==============================] - 0s 4ms/step - loss: 0.4151 - accuracy: 0.8046 - val_loss: 0.5154 - val_accuracy: 0.7338\n",
            "Epoch 26/50\n",
            "20/20 [==============================] - 0s 5ms/step - loss: 0.4142 - accuracy: 0.7964 - val_loss: 0.5154 - val_accuracy: 0.7403\n",
            "Epoch 27/50\n",
            "20/20 [==============================] - 0s 3ms/step - loss: 0.4128 - accuracy: 0.7980 - val_loss: 0.5189 - val_accuracy: 0.7468\n",
            "Epoch 28/50\n",
            "20/20 [==============================] - 0s 3ms/step - loss: 0.4119 - accuracy: 0.8062 - val_loss: 0.5154 - val_accuracy: 0.7338\n",
            "Epoch 29/50\n",
            "20/20 [==============================] - 0s 3ms/step - loss: 0.4090 - accuracy: 0.8078 - val_loss: 0.5185 - val_accuracy: 0.7338\n",
            "Epoch 30/50\n",
            "20/20 [==============================] - 0s 3ms/step - loss: 0.4074 - accuracy: 0.7980 - val_loss: 0.5194 - val_accuracy: 0.7532\n",
            "Epoch 31/50\n",
            "20/20 [==============================] - 0s 3ms/step - loss: 0.4064 - accuracy: 0.7980 - val_loss: 0.5180 - val_accuracy: 0.7338\n",
            "Epoch 32/50\n",
            "20/20 [==============================] - 0s 4ms/step - loss: 0.4048 - accuracy: 0.8046 - val_loss: 0.5217 - val_accuracy: 0.7208\n",
            "Epoch 33/50\n",
            "20/20 [==============================] - 0s 4ms/step - loss: 0.4052 - accuracy: 0.8029 - val_loss: 0.5239 - val_accuracy: 0.7338\n",
            "Epoch 34/50\n",
            "20/20 [==============================] - 0s 4ms/step - loss: 0.4025 - accuracy: 0.8046 - val_loss: 0.5197 - val_accuracy: 0.7532\n",
            "Epoch 35/50\n",
            "20/20 [==============================] - 0s 4ms/step - loss: 0.4017 - accuracy: 0.7997 - val_loss: 0.5203 - val_accuracy: 0.7403\n",
            "Epoch 36/50\n",
            "20/20 [==============================] - 0s 4ms/step - loss: 0.3995 - accuracy: 0.7997 - val_loss: 0.5237 - val_accuracy: 0.7273\n",
            "Epoch 37/50\n",
            "20/20 [==============================] - 0s 3ms/step - loss: 0.3985 - accuracy: 0.8013 - val_loss: 0.5247 - val_accuracy: 0.7273\n",
            "Epoch 38/50\n",
            "20/20 [==============================] - 0s 3ms/step - loss: 0.3982 - accuracy: 0.8062 - val_loss: 0.5243 - val_accuracy: 0.7273\n",
            "Epoch 39/50\n",
            "20/20 [==============================] - 0s 4ms/step - loss: 0.3962 - accuracy: 0.8029 - val_loss: 0.5261 - val_accuracy: 0.7403\n",
            "Epoch 40/50\n",
            "20/20 [==============================] - 0s 4ms/step - loss: 0.3947 - accuracy: 0.8078 - val_loss: 0.5277 - val_accuracy: 0.7403\n",
            "Epoch 41/50\n",
            "20/20 [==============================] - 0s 3ms/step - loss: 0.3948 - accuracy: 0.8046 - val_loss: 0.5291 - val_accuracy: 0.7273\n",
            "Epoch 42/50\n",
            "20/20 [==============================] - 0s 4ms/step - loss: 0.3932 - accuracy: 0.8094 - val_loss: 0.5327 - val_accuracy: 0.7273\n",
            "Epoch 43/50\n",
            "20/20 [==============================] - 0s 4ms/step - loss: 0.3926 - accuracy: 0.8094 - val_loss: 0.5313 - val_accuracy: 0.7273\n",
            "Epoch 44/50\n",
            "20/20 [==============================] - 0s 3ms/step - loss: 0.3907 - accuracy: 0.8192 - val_loss: 0.5322 - val_accuracy: 0.7338\n",
            "Epoch 45/50\n",
            "20/20 [==============================] - 0s 3ms/step - loss: 0.3918 - accuracy: 0.8143 - val_loss: 0.5336 - val_accuracy: 0.7273\n",
            "Epoch 46/50\n",
            "20/20 [==============================] - 0s 4ms/step - loss: 0.3901 - accuracy: 0.8208 - val_loss: 0.5380 - val_accuracy: 0.7208\n",
            "Epoch 47/50\n",
            "20/20 [==============================] - 0s 5ms/step - loss: 0.3879 - accuracy: 0.8160 - val_loss: 0.5381 - val_accuracy: 0.7208\n",
            "Epoch 48/50\n",
            "20/20 [==============================] - 0s 4ms/step - loss: 0.3875 - accuracy: 0.8160 - val_loss: 0.5397 - val_accuracy: 0.7208\n",
            "Epoch 49/50\n",
            "20/20 [==============================] - 0s 4ms/step - loss: 0.3890 - accuracy: 0.8208 - val_loss: 0.5392 - val_accuracy: 0.7208\n",
            "Epoch 50/50\n",
            "20/20 [==============================] - 0s 4ms/step - loss: 0.3880 - accuracy: 0.8078 - val_loss: 0.5417 - val_accuracy: 0.7208\n"
          ]
        }
      ]
    },
    {
      "cell_type": "markdown",
      "source": [
        "mengevaluasi kinerja model pada data pengujian dan mencetak akurasi."
      ],
      "metadata": {
        "id": "sRgTxfA3Vcgm"
      }
    },
    {
      "cell_type": "code",
      "source": [
        "# Evaluasi model\n",
        "test_loss, test_acc = model.evaluate(X_test, y_test)\n",
        "print('Akurasi pada data pengujian:', test_acc)\n"
      ],
      "metadata": {
        "colab": {
          "base_uri": "https://localhost:8080/"
        },
        "id": "SPPbtX5iTua3",
        "outputId": "30a54d4d-4fb7-4834-89d0-b255ad8cc4c7"
      },
      "execution_count": null,
      "outputs": [
        {
          "output_type": "stream",
          "name": "stdout",
          "text": [
            "5/5 [==============================] - 0s 2ms/step - loss: 0.5417 - accuracy: 0.7208\n",
            "Akurasi pada data pengujian: 0.7207792401313782\n"
          ]
        }
      ]
    },
    {
      "cell_type": "markdown",
      "source": [
        "prediksi data pengujian dan mengubah probabilitas menjadi kelas biner."
      ],
      "metadata": {
        "id": "x48vqWZfVj3S"
      }
    },
    {
      "cell_type": "code",
      "source": [
        "# Membuat prediksi\n",
        "predictions = model.predict(X_test)\n",
        "predictions = (predictions > 0.5).astype(int)  # Mengubah probabilitas menjadi kelas biner\n",
        "print('Prediksi untuk data pertama:', predictions[0])\n"
      ],
      "metadata": {
        "colab": {
          "base_uri": "https://localhost:8080/"
        },
        "id": "6rQaFZOoUGNY",
        "outputId": "a341d0f2-5060-4bad-a072-563f2c5c1b90"
      },
      "execution_count": null,
      "outputs": [
        {
          "output_type": "stream",
          "name": "stdout",
          "text": [
            "5/5 [==============================] - 0s 2ms/step\n",
            "Prediksi untuk data pertama: [1]\n"
          ]
        }
      ]
    },
    {
      "cell_type": "markdown",
      "source": [
        "Gradient Descent\n",
        "memprediksi tingkat diabetes berdasarkan fitur-fitur yang tersedia dalam dataset."
      ],
      "metadata": {
        "id": "OwR_IYjJXCCI"
      }
    },
    {
      "cell_type": "code",
      "source": [
        "import numpy as np\n",
        "from sklearn.datasets import load_diabetes\n",
        "from sklearn.preprocessing import StandardScaler\n",
        "\n",
        "# Load dataset\n",
        "diabetes = load_diabetes()\n",
        "X = diabetes.data\n",
        "y = diabetes.target\n",
        "\n",
        "# Preprocessing\n",
        "scaler = StandardScaler()\n",
        "X = scaler.fit_transform(X)\n",
        "\n",
        "# Fungsi yang akan dioptimalkan\n",
        "def mse_loss(y_true, y_pred):\n",
        "    return np.mean((y_true - y_pred)**2)\n",
        "\n",
        "# Turunan dari fungsi loss MSE\n",
        "def grad_mse_loss(X, y, w):\n",
        "    n = X.shape[0]\n",
        "    y_pred = np.dot(X, w)\n",
        "    grad = -2/n * np.dot(X.T, (y - y_pred))\n",
        "    return grad\n",
        "\n",
        "# Algoritma Gradient Descent\n",
        "def gradient_descent(X, y, initial_w, learning_rate, num_iterations):\n",
        "    w = initial_w\n",
        "    trajectory = [w]\n",
        "\n",
        "    for _ in range(num_iterations):\n",
        "        grad = grad_mse_loss(X, y, w)\n",
        "        w = w - learning_rate * grad\n",
        "        trajectory.append(w)\n",
        "\n",
        "    return np.array(trajectory)\n",
        "\n",
        "# Inisialisasi\n",
        "initial_w = np.zeros(X.shape[1])  # Inisialisasi bobot awal\n",
        "learning_rate = 0.1  # Laju pembelajaran\n",
        "num_iterations = 1000  # Jumlah iterasi\n",
        "\n",
        "# Menjalankan Gradient Descent\n",
        "trajectory_gd = gradient_descent(X, y, initial_w, learning_rate, num_iterations)\n",
        "print(\"Gradient Descent result:\")\n",
        "print(\"Final weights:\", trajectory_gd[-1])"
      ],
      "metadata": {
        "colab": {
          "base_uri": "https://localhost:8080/"
        },
        "id": "7JYruydVW-rP",
        "outputId": "a7e51d35-0532-4aed-d33d-550dee09e1cf"
      },
      "execution_count": null,
      "outputs": [
        {
          "output_type": "stream",
          "name": "stdout",
          "text": [
            "Gradient Descent result:\n",
            "Final weights: [ -0.44605564 -11.37313484  24.80255064  15.39971017 -31.13918067\n",
            "  17.4861675    1.88079215   7.58717168  33.29731738   3.24073117]\n"
          ]
        }
      ]
    },
    {
      "cell_type": "markdown",
      "source": [
        "Stochastic Gradient Descent\n",
        "meminimalkan fungsi kerugian"
      ],
      "metadata": {
        "id": "iYmZNBHuXI6b"
      }
    },
    {
      "cell_type": "code",
      "source": [
        "import numpy as np\n",
        "from sklearn.datasets import load_diabetes\n",
        "from sklearn.preprocessing import StandardScaler\n",
        "\n",
        "# Load dataset\n",
        "diabetes = load_diabetes()\n",
        "X = diabetes.data\n",
        "y = diabetes.target\n",
        "\n",
        "# Preprocessing\n",
        "scaler = StandardScaler()\n",
        "X = scaler.fit_transform(X)\n",
        "\n",
        "# Fungsi yang akan dioptimalkan\n",
        "def mse_loss(y_true, y_pred):\n",
        "    return np.mean((y_true - y_pred)**2)\n",
        "\n",
        "# Turunan dari fungsi loss MSE\n",
        "def grad_mse_loss(X, y, w):\n",
        "    n = X.shape[0]\n",
        "    y_pred = np.dot(X, w)\n",
        "    grad = -2/n * np.dot(X.T, (y - y_pred))\n",
        "    return grad\n",
        "\n",
        "# Algoritma Stochastic Gradient Descent\n",
        "def stochastic_gradient_descent(X, y, initial_w, learning_rate, num_iterations, batch_size):\n",
        "    w = initial_w\n",
        "    trajectory = [w]\n",
        "\n",
        "    for _ in range(num_iterations):\n",
        "        indices = np.random.choice(len(X), batch_size, replace=False)\n",
        "        X_batch = X[indices]\n",
        "        y_batch = y[indices]\n",
        "        grad = grad_mse_loss(X_batch, y_batch, w)\n",
        "        w = w - learning_rate * grad\n",
        "        trajectory.append(w)\n",
        "\n",
        "    return np.array(trajectory)\n",
        "\n",
        "# Inisialisasi\n",
        "initial_w = np.zeros(X.shape[1])  # Inisialisasi bobot awal\n",
        "learning_rate = 0.1  # Laju pembelajaran\n",
        "num_iterations = 1000  # Jumlah iterasi\n",
        "batch_size = 32  # Ukuran batch\n",
        "\n",
        "# Menjalankan Stochastic Gradient Descent\n",
        "trajectory_sgd = stochastic_gradient_descent(X, y, initial_w, learning_rate, num_iterations, batch_size)\n",
        "print(\"\\nStochastic Gradient Descent result:\")\n",
        "print(\"Final weights:\", trajectory_sgd[-1])"
      ],
      "metadata": {
        "colab": {
          "base_uri": "https://localhost:8080/"
        },
        "id": "Emf1-7kiXM_r",
        "outputId": "4dd968bf-7c43-4dbe-adc2-128094082230"
      },
      "execution_count": null,
      "outputs": [
        {
          "output_type": "stream",
          "name": "stdout",
          "text": [
            "\n",
            "Stochastic Gradient Descent result:\n",
            "Final weights: [-12.25471877   0.79854384  23.24512258  15.3875157  -15.55315885\n",
            "  26.75335279  17.5836279    4.78420816  31.16046027   9.28516174]\n"
          ]
        }
      ]
    }
  ]
}